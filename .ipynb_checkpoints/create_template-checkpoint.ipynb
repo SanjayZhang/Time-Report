{
 "cells": [
  {
   "cell_type": "code",
   "execution_count": 2,
   "metadata": {},
   "outputs": [],
   "source": [
    "from datetime import date, timedelta\n",
    "import datetime\n",
    "\n",
    "# 2019.9.2 - 2020.1.12\n",
    "begin = date(2019, 9, 2)\n",
    "end = date(2020, 1, 13)\n",
    "one_day = timedelta(days=1)\n",
    "day_abbrs = ['MON', 'TUE', 'WED', 'THU', 'FRI', 'SAT', 'SUN']\n",
    "\n",
    "output = ''\n",
    "week_cnt = 0\n",
    "cur = begin\n",
    "while cur < end:\n",
    "    # make title: '--Week n--'\n",
    "    if cur.isoweekday() == 1:\n",
    "        week_cnt += 1\n",
    "        title = 'Week {}'.format(week_cnt)\n",
    "        title = title.rjust(23, '-')\n",
    "        title = title.ljust(40, '-')\n",
    "        output += title + '\\n'\n",
    "    \n",
    "    # weekday, date: 'MON, 2019-11-9'\n",
    "    output += day_abbrs[cur.weekday()] + ', ' + str(cur) + '\\n'\n",
    "    \n",
    "    # next day\n",
    "    cur = cur + one_day\n",
    "\n",
    "file_name = str(begin) + '-' + str(end) + '.txt'\n",
    "with open(file_name, 'w') as f:\n",
    "    f.write(output)\n",
    "    \n"
   ]
  },
  {
   "cell_type": "code",
   "execution_count": 28,
   "metadata": {},
   "outputs": [
    {
     "data": {
      "text/plain": [
       "'2019-01-20'"
      ]
     },
     "execution_count": 28,
     "metadata": {},
     "output_type": "execute_result"
    }
   ],
   "source": [
    "str(date(2019,1,20))"
   ]
  }
 ],
 "metadata": {
  "kernelspec": {
   "display_name": "Python 3",
   "language": "python",
   "name": "python3"
  },
  "language_info": {
   "codemirror_mode": {
    "name": "ipython",
    "version": 3
   },
   "file_extension": ".py",
   "mimetype": "text/x-python",
   "name": "python",
   "nbconvert_exporter": "python",
   "pygments_lexer": "ipython3",
   "version": "3.7.4"
  }
 },
 "nbformat": 4,
 "nbformat_minor": 2
}
